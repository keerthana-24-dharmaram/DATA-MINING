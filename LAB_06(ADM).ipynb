{
  "nbformat": 4,
  "nbformat_minor": 0,
  "metadata": {
    "colab": {
      "provenance": [],
      "authorship_tag": "ABX9TyPGuALSou6+1H8oiG5qyKO2",
      "include_colab_link": true
    },
    "kernelspec": {
      "name": "python3",
      "display_name": "Python 3"
    },
    "language_info": {
      "name": "python"
    }
  },
  "cells": [
    {
      "cell_type": "markdown",
      "metadata": {
        "id": "view-in-github",
        "colab_type": "text"
      },
      "source": [
        "<a href=\"https://colab.research.google.com/github/keerthana-24-dharmaram/DATA-MINING/blob/main/LAB_06(ADM).ipynb\" target=\"_parent\"><img src=\"https://colab.research.google.com/assets/colab-badge.svg\" alt=\"Open In Colab\"/></a>"
      ]
    },
    {
      "cell_type": "code",
      "execution_count": 13,
      "metadata": {
        "id": "aPXRQcpYdmGB"
      },
      "outputs": [],
      "source": [
        "import pandas as pd\n",
        "from sklearn.preprocessing import LabelEncoder, OneHotEncoder"
      ]
    },
    {
      "cell_type": "code",
      "source": [
        "#Example Data\n",
        "data={'Category':['A','B','C','A','B']}\n",
        "df=pd.DataFrame(data)"
      ],
      "metadata": {
        "id": "dleTqbEaiiMw"
      },
      "execution_count": 12,
      "outputs": []
    },
    {
      "cell_type": "code",
      "source": [
        "label_encoder = LabelEncoder()\n",
        "df['Category_Encoded'] = label_encoder.fit_transform(df['Category'])"
      ],
      "metadata": {
        "id": "C_TPg4A2lXIN"
      },
      "execution_count": 14,
      "outputs": []
    },
    {
      "cell_type": "markdown",
      "source": [],
      "metadata": {
        "id": "Ywuoh9c_leJ8"
      }
    },
    {
      "cell_type": "code",
      "source": [
        "one_hot_encoder = pd.get_dummies(df['Category'], prefix='Category')\n",
        "df = pd.concat([df, one_hot_encoder], axis=1)\n"
      ],
      "metadata": {
        "id": "AlnjPLhkle0r"
      },
      "execution_count": 15,
      "outputs": []
    },
    {
      "cell_type": "markdown",
      "source": [],
      "metadata": {
        "id": "irOFX18ZpC4Q"
      }
    },
    {
      "cell_type": "code",
      "source": [
        "#example data\n",
        "data={'Name':['Alice','Bob'],'DateOfBirth':['1990-05-15','1985-08-23']}\n",
        "df=pd.DataFrame(data)\n",
        "print(df)"
      ],
      "metadata": {
        "colab": {
          "base_uri": "https://localhost:8080/"
        },
        "id": "DqZIjl6cnp4p",
        "outputId": "1ad67f8b-9e17-4433-c2f6-000af1486569"
      },
      "execution_count": 26,
      "outputs": [
        {
          "output_type": "stream",
          "name": "stdout",
          "text": [
            "    Name DateOfBirth\n",
            "0  Alice  1990-05-15\n",
            "1    Bob  1985-08-23\n"
          ]
        }
      ]
    },
    {
      "cell_type": "code",
      "source": [
        "#Convert Data_of_Birth to datetime\n",
        "df['DateOfBirth']=pd.to_datetime(df['DateOfBirth'])\n",
        "print(df)"
      ],
      "metadata": {
        "colab": {
          "base_uri": "https://localhost:8080/"
        },
        "id": "pTJyDtpPoplu",
        "outputId": "37deb24f-64b3-4da0-991d-32b16827df99"
      },
      "execution_count": 27,
      "outputs": [
        {
          "output_type": "stream",
          "name": "stdout",
          "text": [
            "    Name DateOfBirth\n",
            "0  Alice  1990-05-15\n",
            "1    Bob  1985-08-23\n"
          ]
        }
      ]
    },
    {
      "cell_type": "code",
      "source": [
        "from datetime import datetime"
      ],
      "metadata": {
        "id": "HxJfqSjcqUn3"
      },
      "execution_count": 28,
      "outputs": []
    },
    {
      "cell_type": "code",
      "source": [
        "#calculate Age\n",
        "current_year=datetime.now().year\n",
        "df['Age']=current_year-df['DateOfBirth'].dt.year\n",
        "print(df)"
      ],
      "metadata": {
        "colab": {
          "base_uri": "https://localhost:8080/"
        },
        "id": "dN2dyv8Mpjst",
        "outputId": "e51524ec-f6eb-4965-a956-427a2fda2d31"
      },
      "execution_count": 30,
      "outputs": [
        {
          "output_type": "stream",
          "name": "stdout",
          "text": [
            "    Name DateOfBirth  Age\n",
            "0  Alice  1990-05-15   35\n",
            "1    Bob  1985-08-23   40\n"
          ]
        }
      ]
    },
    {
      "cell_type": "code",
      "source": [
        "#example data\n",
        "data={'Category':['A','A','B','B','C'],\n",
        "      'Value':[10,20,10,30,40]}\n",
        "df=pd.DataFrame(data)\n",
        "print(df)"
      ],
      "metadata": {
        "colab": {
          "base_uri": "https://localhost:8080/"
        },
        "id": "CyWRj1ZCpkqx",
        "outputId": "c3eb964a-e42b-4128-d580-2e7f3b5b1249"
      },
      "execution_count": 32,
      "outputs": [
        {
          "output_type": "stream",
          "name": "stdout",
          "text": [
            "  Category  Value\n",
            "0        A     10\n",
            "1        A     20\n",
            "2        B     10\n",
            "3        B     30\n",
            "4        C     40\n"
          ]
        }
      ]
    },
    {
      "cell_type": "code",
      "source": [
        "#Group by and aggregate\n",
        "grouped=df.groupby('Category').agg({'Value': ['sum','mean']})\n",
        "print(\"Grouped Data:\\n\", grouped)"
      ],
      "metadata": {
        "colab": {
          "base_uri": "https://localhost:8080/"
        },
        "id": "qc0-wZq_u-nf",
        "outputId": "8344d30a-6932-4b2a-d4a4-40bad6f5c995"
      },
      "execution_count": 33,
      "outputs": [
        {
          "output_type": "stream",
          "name": "stdout",
          "text": [
            "Grouped Data:\n",
            "          Value      \n",
            "           sum  mean\n",
            "Category            \n",
            "A           30  15.0\n",
            "B           40  20.0\n",
            "C           40  40.0\n"
          ]
        }
      ]
    },
    {
      "cell_type": "code",
      "source": [
        "#Pivot table\n",
        "pivot = df.pivot_table(index='Category', values='Value', aggfunc=['sum', 'mean'])\n",
        "print(\"Pivot Table:\\n\", pivot)"
      ],
      "metadata": {
        "colab": {
          "base_uri": "https://localhost:8080/"
        },
        "id": "o6thTkfFvCoJ",
        "outputId": "2653c134-e6f4-45c3-9a2f-4f2a536d8927"
      },
      "execution_count": 34,
      "outputs": [
        {
          "output_type": "stream",
          "name": "stdout",
          "text": [
            "Pivot Table:\n",
            "            sum  mean\n",
            "         Value Value\n",
            "Category            \n",
            "A           30  15.0\n",
            "B           40  20.0\n",
            "C           40  40.0\n"
          ]
        }
      ]
    }
  ]
}